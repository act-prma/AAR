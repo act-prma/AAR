{
  "nbformat": 4,
  "nbformat_minor": 0,
  "metadata": {
    "colab": {
      "name": "Tarea R.ipynb",
      "provenance": [],
      "collapsed_sections": []
    },
    "kernelspec": {
      "name": "python3",
      "display_name": "Python 3"
    }
  },
  "cells": [
    {
      "cell_type": "code",
      "metadata": {
        "id": "jfuShWWseH1N",
        "colab_type": "code",
        "outputId": "e298c4be-c025-4db1-e1f6-425a665ec495",
        "colab": {
          "base_uri": "https://localhost:8080/",
          "height": 143
        }
      },
      "source": [
        "%load_ext rpy2.ipython\n",
        "!git clone \"https://github.com/act-prma/AAR\""
      ],
      "execution_count": 2,
      "outputs": [
        {
          "output_type": "stream",
          "text": [
            "/usr/local/lib/python3.6/dist-packages/rpy2/robjects/pandas2ri.py:14: FutureWarning: pandas.core.index is deprecated and will be removed in a future version.  The public classes are available in the top-level namespace.\n",
            "  from pandas.core.index import Index as PandasIndex\n",
            "/usr/local/lib/python3.6/dist-packages/rpy2/robjects/pandas2ri.py:34: UserWarning: pandas >= 1.0 is not supported.\n",
            "  warnings.warn('pandas >= 1.0 is not supported.')\n"
          ],
          "name": "stderr"
        },
        {
          "output_type": "stream",
          "text": [
            "Cloning into 'AAR'...\n",
            "warning: You appear to have cloned an empty repository.\n"
          ],
          "name": "stdout"
        }
      ]
    },
    {
      "cell_type": "markdown",
      "metadata": {
        "id": "iCdRo3dABvZ2",
        "colab_type": "text"
      },
      "source": [
        "# 1. ¿Cuál es el resultado de la siguiente expresión?\n",
        "\n",
        "a) 2 * 2.5\n",
        "\n",
        "b) 9%%2"
      ]
    },
    {
      "cell_type": "code",
      "metadata": {
        "id": "ztY4GxXMgG6h",
        "colab_type": "code",
        "outputId": "ddbae868-08a0-470d-bef6-23c7467728b7",
        "colab": {
          "base_uri": "https://localhost:8080/",
          "height": 87
        }
      },
      "source": [
        "%%R\n",
        "print(\"inciso a\")\n",
        "print(2*2.5)\n",
        "print(\"inciso b\")\n",
        "print(9%%2)"
      ],
      "execution_count": 3,
      "outputs": [
        {
          "output_type": "stream",
          "text": [
            "[1] \"inciso a\"\n",
            "[1] 5\n",
            "[1] \"inciso b\"\n",
            "[1] 1\n"
          ],
          "name": "stdout"
        }
      ]
    },
    {
      "cell_type": "markdown",
      "metadata": {
        "id": "u5HEPet7DS0V",
        "colab_type": "text"
      },
      "source": [
        "#2.\tLas edades de un grupo de amigos son 27, 23, 29, 24 y 31 años. Crea un vector de edades con estos datos y calcula su media, de forma que la salida se guarde en un ﬁchero llamado amigos. Vuelve a calcularla, pero de manera que ahora el resultado salga por pantalla.\n"
      ]
    },
    {
      "cell_type": "code",
      "metadata": {
        "id": "c6SLvO_lDdEM",
        "colab_type": "code",
        "outputId": "cd056b2f-9bd1-4e7c-e902-931cef6e91be",
        "colab": {
          "base_uri": "https://localhost:8080/",
          "height": 34
        }
      },
      "source": [
        "%%R\n",
        "amigos <- c(27, 23, 29, 24, 31)\n",
        "print(amigos)"
      ],
      "execution_count": 4,
      "outputs": [
        {
          "output_type": "stream",
          "text": [
            "[1] 27 23 29 24 31\n"
          ],
          "name": "stdout"
        }
      ]
    },
    {
      "cell_type": "markdown",
      "metadata": {
        "id": "JBaqP9eFENTg",
        "colab_type": "text"
      },
      "source": [
        "#3.\tDeﬁne el vector y = (1,3,5,7) utilizando la función c(). ¿Cómo lo harías con la función seq()?."
      ]
    },
    {
      "cell_type": "code",
      "metadata": {
        "id": "TYJoB0KMEQY2",
        "colab_type": "code",
        "outputId": "7d746560-4941-443e-c23f-91b39ccbce89",
        "colab": {
          "base_uri": "https://localhost:8080/",
          "height": 34
        }
      },
      "source": [
        "%%R\n",
        "y <- seq(to=7, by=2)\n",
        "print(y)"
      ],
      "execution_count": 5,
      "outputs": [
        {
          "output_type": "stream",
          "text": [
            "[1] 1 3 5 7\n"
          ],
          "name": "stdout"
        }
      ]
    },
    {
      "cell_type": "markdown",
      "metadata": {
        "id": "2evkXBPHEqgv",
        "colab_type": "text"
      },
      "source": [
        "#4.Sabemos que para sumar vectores estos deben tener la misma longitud. Sin embargo, R trabaja de manera distinta. Deﬁne los vectores x = (1,2,3,4,5,6), y = (7,8), z = (9,10,11,12). Calcula:\n",
        "a) x + x \n",
        "\n",
        "b) x + y. ¿Qué ha hecho R? \n",
        "\n",
        "c) x+z. Ahora R da un warning pero aun así nos da un resultado. ¿Cómo lo ha calculado?"
      ]
    },
    {
      "cell_type": "code",
      "metadata": {
        "id": "bKxXW9zLE2wH",
        "colab_type": "code",
        "outputId": "da7b0880-6146-4128-cbc7-326e28cbd4c2",
        "colab": {
          "base_uri": "https://localhost:8080/",
          "height": 70
        }
      },
      "source": [
        "%%R\n",
        "x <- c(1:6)\n",
        "y <- c(7,8)\n",
        "z <- c(9:12)\n",
        "print(x+x)\n",
        "print(x+y)\n",
        "print(x+z)"
      ],
      "execution_count": 6,
      "outputs": [
        {
          "output_type": "stream",
          "text": [
            "[1]  2  4  6  8 10 12\n",
            "[1]  8 10 10 12 12 14\n",
            "[1] 10 12 14 16 14 16\n"
          ],
          "name": "stdout"
        }
      ]
    },
    {
      "cell_type": "markdown",
      "metadata": {
        "id": "6BmjJo2VZO7a",
        "colab_type": "text"
      },
      "source": [
        "Para el inciso b) al ser X un vector de 6 entradas y Y de 2 entradas, se suman entrada por entrada del tamaño del vector mas grande, i.e., el vector más grande le suman el vector mas chico cuantas entradas tenga el grande.\n",
        "\n",
        "Para el iniciso c), al igual que en el inciso b) se suman entrada por entrada, aún no siendo del mismo tamaño el vector, reiniciando en su primer entrada el vector mas chico cuando el otro es mas grande."
      ]
    },
    {
      "cell_type": "markdown",
      "metadata": {
        "id": "9XxTbdG_cRVJ",
        "colab_type": "text"
      },
      "source": [
        "#5.\tSe definió el vector x = (1,2,3,4,5,6). A partir de dicho vector se han construido las matrices m1, m2, m3, m4.\n",
        "\n",
        "\n",
        "\n",
        "#Todas las matrices se han deﬁnido a partir de matrix(x,...). Reproduce el código necesario para obtener cada una de ellas."
      ]
    },
    {
      "cell_type": "code",
      "metadata": {
        "id": "-VJHVCm8cR3I",
        "colab_type": "code",
        "outputId": "61e4f50c-71c6-40ba-f16d-aa33b402d428",
        "colab": {
          "base_uri": "https://localhost:8080/",
          "height": 265
        }
      },
      "source": [
        "%%R\n",
        "x = c(1:6)\n",
        "m1 = matrix(x, nrow=2, ncol=3)\n",
        "m2 = matrix(x, nrow=3, ncol=2)\n",
        "m3 = matrix(x, nrow=2, ncol=3, byrow=TRUE)\n",
        "m4 = matrix(x, nrow=3, ncol=3, byrow=FALSE)\n",
        "print(m1)\n",
        "print(m2)\n",
        "print(m3)\n",
        "print(m4)"
      ],
      "execution_count": 7,
      "outputs": [
        {
          "output_type": "stream",
          "text": [
            "     [,1] [,2] [,3]\n",
            "[1,]    1    3    5\n",
            "[2,]    2    4    6\n",
            "     [,1] [,2]\n",
            "[1,]    1    4\n",
            "[2,]    2    5\n",
            "[3,]    3    6\n",
            "     [,1] [,2] [,3]\n",
            "[1,]    1    2    3\n",
            "[2,]    4    5    6\n",
            "     [,1] [,2] [,3]\n",
            "[1,]    1    4    1\n",
            "[2,]    2    5    2\n",
            "[3,]    3    6    3\n"
          ],
          "name": "stdout"
        }
      ]
    },
    {
      "cell_type": "markdown",
      "metadata": {
        "id": "5sd1gv4elRAX",
        "colab_type": "text"
      },
      "source": [
        "#6.\t¿Cuál es la diferencia entre *, %*% y outer() ? Compruébalo con las matrices"
      ]
    },
    {
      "cell_type": "code",
      "metadata": {
        "id": "DzQn2fBflVaI",
        "colab_type": "code",
        "outputId": "46f0d8c4-ba54-4686-9904-26ae52a6bf28",
        "colab": {
          "base_uri": "https://localhost:8080/",
          "height": 390
        }
      },
      "source": [
        "%%R\n",
        "A = matrix(c(2,1,3,4), nrow=2, ncol=2)\n",
        "B = matrix(c(3,8))\n",
        "print(A)\n",
        "print(B)\n",
        "#print(A*B) #Dejamos comentada esta por el hecho de que marca un error\n",
        "            #por no ser un escalar\n",
        "print(A%*%B)\n",
        "print(outer(A,B))"
      ],
      "execution_count": 8,
      "outputs": [
        {
          "output_type": "stream",
          "text": [
            "     [,1] [,2]\n",
            "[1,]    2    3\n",
            "[2,]    1    4\n",
            "     [,1]\n",
            "[1,]    3\n",
            "[2,]    8\n",
            "     [,1]\n",
            "[1,]   30\n",
            "[2,]   35\n",
            ", , 1, 1\n",
            "\n",
            "     [,1] [,2]\n",
            "[1,]    6    9\n",
            "[2,]    3   12\n",
            "\n",
            ", , 2, 1\n",
            "\n",
            "     [,1] [,2]\n",
            "[1,]   16   24\n",
            "[2,]    8   32\n",
            "\n"
          ],
          "name": "stdout"
        }
      ]
    },
    {
      "cell_type": "markdown",
      "metadata": {
        "id": "5fZSZbGYoJYm",
        "colab_type": "text"
      },
      "source": [
        "La operacion \"*\" es para multiplicar las matrices por escalares, en cuanto a \"%*%\" es para hacer la multiplicacion de matrices y por ultimo \"outer()\" multiplica e imprime la primer matriz por cada uno de las entradas de la segunda matriz como si fuera un escalar. "
      ]
    },
    {
      "cell_type": "markdown",
      "metadata": {
        "id": "puRAxUF1qI5w",
        "colab_type": "text"
      },
      "source": [
        "#7.\tUn grupo de amigos está formado por Ana de 23 años, Luis de 24 años, Pedro de 22, Juan de 24, Eva de 21 y Jorge de 22 años. Crea los vectores correspondientes a nombre, edad y sexo. (Usa la codiﬁcacio´n M=mujer, H=hombre).\n",
        "a)\tConvierte el vector sexo en un factor sexf. ¿Cuáles son los niveles de dicho factor?\n",
        "\n",
        "b)\tCon los datos anteriores hemos creado el dataframe amigos. El resultado es:\n",
        "¿Cuál es el código de R da como resultado esta salida?\n",
        "\n",
        "c)\t¿Cuál es la edad media de las chicas del grupo? ¿Y la de los chicos? Intenta responder a ambas preguntas con un único comando."
      ]
    },
    {
      "cell_type": "code",
      "metadata": {
        "id": "EKgaFLUQqCAU",
        "colab_type": "code",
        "outputId": "d564a552-58ec-412d-fd0f-59edf98c483c",
        "colab": {
          "base_uri": "https://localhost:8080/",
          "height": 158
        }
      },
      "source": [
        "%%R\n",
        "nombre = c(\"Ana\", \"Luis\", \"Pedro\", \"Eva\")\n",
        "edad = c(23, 24, 22, 21)\n",
        "sexo = c(\"M\", \"H\", \"H\", \"M\")\n",
        "#Inciso a\n",
        "sexf = factor(sexo)\n",
        "print(sexf)\n",
        "#Inciso b\n",
        "amigos = data.frame(nombre, edad, sexo)\n",
        "print(amigos)\n",
        "#Inciso c\n",
        "print(mean(amigos[,2]))"
      ],
      "execution_count": 9,
      "outputs": [
        {
          "output_type": "stream",
          "text": [
            "[1] M H H M\n",
            "Levels: H M\n",
            "  nombre edad sexo\n",
            "1    Ana   23    M\n",
            "2   Luis   24    H\n",
            "3  Pedro   22    H\n",
            "4    Eva   21    M\n",
            "[1] 22.5\n"
          ],
          "name": "stdout"
        }
      ]
    },
    {
      "cell_type": "markdown",
      "metadata": {
        "id": "DJSCvkPjyeIB",
        "colab_type": "text"
      },
      "source": [
        "#8.\tEscribe una función que calcule el factorial de un número. Recuerda que la factorial esta deﬁnido para valores enteros no negativos como: n! = n·(n−1)·...·2·1. La función debe dar mensaje de error en caso de introducir un valor que no sea entero o negativo."
      ]
    },
    {
      "cell_type": "code",
      "metadata": {
        "id": "zeQIYJte2xD1",
        "colab_type": "code",
        "colab": {
          "base_uri": "https://localhost:8080/",
          "height": 34
        },
        "outputId": "380f1bbd-9ed2-427e-a2a2-59b87045b296"
      },
      "source": [
        "%%R\n",
        "factorial <- function(n){\n",
        "  factorial <- 1\n",
        "  if (n < 0){\n",
        "    print(\"El numero no es valido, solo se aceptan positivos\")\n",
        "  }\n",
        "  else{\n",
        "    for (i in 1:n){\n",
        "      factorial <- factorial * i\n",
        "    }\n",
        "    return(factorial)\n",
        "  }\n",
        "}\n",
        "\n",
        "factorial(3)"
      ],
      "execution_count": 25,
      "outputs": [
        {
          "output_type": "stream",
          "text": [
            "[1] 6\n"
          ],
          "name": "stdout"
        }
      ]
    },
    {
      "cell_type": "markdown",
      "metadata": {
        "id": "rgX05pie5Dkq",
        "colab_type": "text"
      },
      "source": [
        "#9. Escribe una función edades que, dado el día mes y año del nacimiento de una persona, nos devuelva la edad que tiene en el momento de la ejecución de la función."
      ]
    },
    {
      "cell_type": "code",
      "metadata": {
        "id": "Ykv4R74H5MxI",
        "colab_type": "code",
        "colab": {
          "base_uri": "https://localhost:8080/",
          "height": 123
        },
        "outputId": "6ad4ade7-9b64-4f4c-b08c-0777c5634354"
      },
      "source": [
        "%%R\n",
        "\n",
        "edad <- function(nac){\n",
        "  hoy <- Sys.Date()\n",
        "  nac <- as.Date(as.integer(nac)) \n",
        "  #nac <- as.Date(\"1998-03-31\")\n",
        "  return(hoy - nac)\n",
        "}\n",
        "edad()"
      ],
      "execution_count": 54,
      "outputs": [
        {
          "output_type": "stream",
          "text": [
            "R[write to console]: Error in as.Date.numeric(as.integer(nac)) : 'origin' must be supplied\n",
            "Calls: <Anonymous> ... <Anonymous> -> withVisible -> edad -> as.Date -> as.Date.numeric\n",
            "\n"
          ],
          "name": "stderr"
        },
        {
          "output_type": "stream",
          "text": [
            "\n",
            "Error in as.Date.numeric(as.integer(nac)) : 'origin' must be supplied\n",
            "Calls: <Anonymous> ... <Anonymous> -> withVisible -> edad -> as.Date -> as.Date.numeric\n"
          ],
          "name": "stdout"
        }
      ]
    },
    {
      "cell_type": "code",
      "metadata": {
        "id": "KgkOP6j15Mqc",
        "colab_type": "code",
        "colab": {}
      },
      "source": [
        " vhoy <- Sys.Date()\n",
        " vagniohoy <- format(vhoy, \"%Y\")\n",
        " vagniohoy <- as.numeric(vagniohoy)\n",
        " vhoy"
      ],
      "execution_count": 0,
      "outputs": []
    }
  ]
}