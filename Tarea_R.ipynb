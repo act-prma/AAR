{
  "nbformat": 4,
  "nbformat_minor": 0,
  "metadata": {
    "colab": {
      "name": "Tarea R.ipynb",
      "provenance": [],
      "collapsed_sections": [],
      "authorship_tag": "ABX9TyPwFTy9G1R5GEBpznEa72JC",
      "include_colab_link": true
    },
    "kernelspec": {
      "name": "python3",
      "display_name": "Python 3"
    }
  },
  "cells": [
    {
      "cell_type": "markdown",
      "metadata": {
        "id": "view-in-github",
        "colab_type": "text"
      },
      "source": [
        "<a href=\"https://colab.research.google.com/github/act-prma/AAR/blob/master/Tarea_R.ipynb\" target=\"_parent\"><img src=\"https://colab.research.google.com/assets/colab-badge.svg\" alt=\"Open In Colab\"/></a>"
      ]
    },
    {
      "cell_type": "code",
      "metadata": {
        "id": "jfuShWWseH1N",
        "colab_type": "code",
        "outputId": "f27a6010-973e-44d1-9c5d-932170395c11",
        "colab": {
          "base_uri": "https://localhost:8080/",
          "height": 214
        }
      },
      "source": [
        "%load_ext rpy2.ipython\n",
        "!git clone \"https://github.com/act-prma/AAR\""
      ],
      "execution_count": 0,
      "outputs": [
        {
          "output_type": "stream",
          "text": [
            "/usr/local/lib/python3.6/dist-packages/rpy2/robjects/pandas2ri.py:14: FutureWarning: pandas.core.index is deprecated and will be removed in a future version.  The public classes are available in the top-level namespace.\n",
            "  from pandas.core.index import Index as PandasIndex\n",
            "/usr/local/lib/python3.6/dist-packages/rpy2/robjects/pandas2ri.py:34: UserWarning: pandas >= 1.0 is not supported.\n",
            "  warnings.warn('pandas >= 1.0 is not supported.')\n"
          ],
          "name": "stderr"
        },
        {
          "output_type": "stream",
          "text": [
            "Cloning into 'AAR'...\n",
            "remote: Enumerating objects: 3, done.\u001b[K\n",
            "remote: Counting objects: 100% (3/3), done.\u001b[K\n",
            "remote: Compressing objects: 100% (2/2), done.\u001b[K\n",
            "remote: Total 3 (delta 0), reused 0 (delta 0), pack-reused 0\u001b[K\n",
            "Unpacking objects: 100% (3/3), done.\n"
          ],
          "name": "stdout"
        }
      ]
    },
    {
      "cell_type": "markdown",
      "metadata": {
        "id": "iCdRo3dABvZ2",
        "colab_type": "text"
      },
      "source": [
        "# 1. ¿Cuál es el resultado de la siguiente expresión?\n",
        "\n",
        "a) 2 * 2.5\n",
        "\n",
        "b) 9%%2"
      ]
    },
    {
      "cell_type": "code",
      "metadata": {
        "id": "ztY4GxXMgG6h",
        "colab_type": "code",
        "outputId": "7261c3e8-412f-4da3-afa3-20fce749d14f",
        "colab": {
          "base_uri": "https://localhost:8080/",
          "height": 87
        }
      },
      "source": [
        "%%R\n",
        "print(\"inciso a\")\n",
        "print(2*2.5)\n",
        "print(\"inciso b\")\n",
        "print(9%%2)"
      ],
      "execution_count": 0,
      "outputs": [
        {
          "output_type": "stream",
          "text": [
            "[1] \"inciso a\"\n",
            "[1] 5\n",
            "[1] \"inciso b\"\n",
            "[1] 1\n"
          ],
          "name": "stdout"
        }
      ]
    },
    {
      "cell_type": "markdown",
      "metadata": {
        "id": "u5HEPet7DS0V",
        "colab_type": "text"
      },
      "source": [
        "#2.\tLas edades de un grupo de amigos son 27, 23, 29, 24 y 31 años. Crea un vector de edades con estos datos y calcula su media, de forma que la salida se guarde en un ﬁchero llamado amigos. Vuelve a calcularla, pero de manera que ahora el resultado salga por pantalla.\n"
      ]
    },
    {
      "cell_type": "code",
      "metadata": {
        "id": "c6SLvO_lDdEM",
        "colab_type": "code",
        "outputId": "2877434a-0b8b-47e0-9a84-df39e15b2fff",
        "colab": {
          "base_uri": "https://localhost:8080/",
          "height": 34
        }
      },
      "source": [
        "%%R\n",
        "amigos <- c(27, 23, 29, 24, 31)\n",
        "print(amigos)"
      ],
      "execution_count": 0,
      "outputs": [
        {
          "output_type": "stream",
          "text": [
            "[1] 27 23 29 24 31\n"
          ],
          "name": "stdout"
        }
      ]
    },
    {
      "cell_type": "markdown",
      "metadata": {
        "id": "JBaqP9eFENTg",
        "colab_type": "text"
      },
      "source": [
        "#3.\tDeﬁne el vector y = (1,3,5,7) utilizando la función c(). ¿Cómo lo harías con la función seq()?."
      ]
    },
    {
      "cell_type": "code",
      "metadata": {
        "id": "TYJoB0KMEQY2",
        "colab_type": "code",
        "outputId": "58689ebc-5b91-48f1-a418-e152188a3a94",
        "colab": {
          "base_uri": "https://localhost:8080/",
          "height": 34
        }
      },
      "source": [
        "%%R\n",
        "y <- seq(to=7, by=2)\n",
        "print(y)"
      ],
      "execution_count": 0,
      "outputs": [
        {
          "output_type": "stream",
          "text": [
            "[1] 1 3 5 7\n"
          ],
          "name": "stdout"
        }
      ]
    },
    {
      "cell_type": "markdown",
      "metadata": {
        "id": "2evkXBPHEqgv",
        "colab_type": "text"
      },
      "source": [
        "#4.Sabemos que para sumar vectores estos deben tener la misma longitud. Sin embargo, R trabaja de manera distinta. Deﬁne los vectores x = (1,2,3,4,5,6), y = (7,8), z = (9,10,11,12). Calcula:\n",
        "a) x + x \n",
        "\n",
        "b) x + y. ¿Qué ha hecho R? \n",
        "\n",
        "c) x+z. Ahora R da un warning pero aun así nos da un resultado. ¿Cómo lo ha calculado?"
      ]
    },
    {
      "cell_type": "code",
      "metadata": {
        "id": "bKxXW9zLE2wH",
        "colab_type": "code",
        "outputId": "6ee35f49-6b15-4f7b-9aeb-7e22501c9476",
        "colab": {
          "base_uri": "https://localhost:8080/",
          "height": 70
        }
      },
      "source": [
        "%%R\n",
        "x <- c(1:6)\n",
        "y <- c(7,8)\n",
        "z <- c(9:12)\n",
        "print(x+x)\n",
        "print(x+y)\n",
        "print(x+z)"
      ],
      "execution_count": 0,
      "outputs": [
        {
          "output_type": "stream",
          "text": [
            "[1]  2  4  6  8 10 12\n",
            "[1]  8 10 10 12 12 14\n",
            "[1] 10 12 14 16 14 16\n"
          ],
          "name": "stdout"
        }
      ]
    },
    {
      "cell_type": "markdown",
      "metadata": {
        "id": "6BmjJo2VZO7a",
        "colab_type": "text"
      },
      "source": [
        "Para el inciso b) al ser X un vector de 6 entradas y Y de 2 entradas, se suman entrada por entrada del tamaño del vector mas grande, i.e., el vector más grande le suman el vector mas chico cuantas entradas tenga el grande.\n",
        "\n",
        "Para el iniciso c), al igual que en el inciso b) se suman entrada por entrada, aún no siendo del mismo tamaño el vector, reiniciando en su primer entrada el vector mas chico cuando el otro es mas grande."
      ]
    },
    {
      "cell_type": "markdown",
      "metadata": {
        "id": "9XxTbdG_cRVJ",
        "colab_type": "text"
      },
      "source": [
        "#5.\tSe definió el vector x = (1,2,3,4,5,6). A partir de dicho vector se han construido las matrices m1, m2, m3, m4.\n",
        "\n",
        "\n",
        "\n",
        "#Todas las matrices se han deﬁnido a partir de matrix(x,...). Reproduce el código necesario para obtener cada una de ellas."
      ]
    },
    {
      "cell_type": "code",
      "metadata": {
        "id": "-VJHVCm8cR3I",
        "colab_type": "code",
        "outputId": "01d2b420-f539-4612-d0bd-a790afb8ee6f",
        "colab": {
          "base_uri": "https://localhost:8080/",
          "height": 265
        }
      },
      "source": [
        "%%R\n",
        "x = c(1:6)\n",
        "m1 = matrix(x, nrow=2, ncol=3)\n",
        "m2 = matrix(x, nrow=3, ncol=2)\n",
        "m3 = matrix(x, nrow=2, ncol=3, byrow=TRUE)\n",
        "m4 = matrix(x, nrow=3, ncol=3, byrow=FALSE)\n",
        "print(m1)\n",
        "print(m2)\n",
        "print(m3)\n",
        "print(m4)"
      ],
      "execution_count": 0,
      "outputs": [
        {
          "output_type": "stream",
          "text": [
            "     [,1] [,2] [,3]\n",
            "[1,]    1    3    5\n",
            "[2,]    2    4    6\n",
            "     [,1] [,2]\n",
            "[1,]    1    4\n",
            "[2,]    2    5\n",
            "[3,]    3    6\n",
            "     [,1] [,2] [,3]\n",
            "[1,]    1    2    3\n",
            "[2,]    4    5    6\n",
            "     [,1] [,2] [,3]\n",
            "[1,]    1    4    1\n",
            "[2,]    2    5    2\n",
            "[3,]    3    6    3\n"
          ],
          "name": "stdout"
        }
      ]
    },
    {
      "cell_type": "markdown",
      "metadata": {
        "id": "5sd1gv4elRAX",
        "colab_type": "text"
      },
      "source": [
        "#6.\t¿Cuál es la diferencia entre *, %*% y outer() ? Compruébalo con las matrices"
      ]
    },
    {
      "cell_type": "code",
      "metadata": {
        "id": "DzQn2fBflVaI",
        "colab_type": "code",
        "outputId": "b898816b-e80f-4d32-e897-48293f076d61",
        "colab": {
          "base_uri": "https://localhost:8080/",
          "height": 390
        }
      },
      "source": [
        "%%R\n",
        "A = matrix(c(2,1,3,4), nrow=2, ncol=2)\n",
        "B = matrix(c(3,8))\n",
        "print(A)\n",
        "print(B)\n",
        "#print(A*B) #Dejamos comentada esta por el hecho de que marca un error\n",
        "            #por no ser un escalar o de la misma dimension de matrices, siendo\n",
        "            #estas un producto cruz.\n",
        "print(A%*%B)\n",
        "print(outer(A,B))"
      ],
      "execution_count": 0,
      "outputs": [
        {
          "output_type": "stream",
          "text": [
            "     [,1] [,2]\n",
            "[1,]    2    3\n",
            "[2,]    1    4\n",
            "     [,1]\n",
            "[1,]    3\n",
            "[2,]    8\n",
            "     [,1]\n",
            "[1,]   30\n",
            "[2,]   35\n",
            ", , 1, 1\n",
            "\n",
            "     [,1] [,2]\n",
            "[1,]    6    9\n",
            "[2,]    3   12\n",
            "\n",
            ", , 2, 1\n",
            "\n",
            "     [,1] [,2]\n",
            "[1,]   16   24\n",
            "[2,]    8   32\n",
            "\n"
          ],
          "name": "stdout"
        }
      ]
    },
    {
      "cell_type": "markdown",
      "metadata": {
        "id": "5fZSZbGYoJYm",
        "colab_type": "text"
      },
      "source": [
        "La operacion \"*\" es para multiplicar las matrices por escalares, en cuanto a \"%*%\" es para hacer la multiplicacion de matrices y por ultimo \"outer()\" multiplica e imprime la primer matriz por cada uno de las entradas de la segunda matriz como si fuera un escalar. "
      ]
    },
    {
      "cell_type": "markdown",
      "metadata": {
        "id": "puRAxUF1qI5w",
        "colab_type": "text"
      },
      "source": [
        "#7.\tUn grupo de amigos está formado por Ana de 23 años, Luis de 24 años, Pedro de 22, Juan de 24, Eva de 21 y Jorge de 22 años. Crea los vectores correspondientes a nombre, edad y sexo. (Usa la codiﬁcacio´n M=mujer, H=hombre).\n",
        "a)\tConvierte el vector sexo en un factor sexf. ¿Cuáles son los niveles de dicho factor?\n",
        "\n",
        "b)\tCon los datos anteriores hemos creado el dataframe amigos. El resultado es:\n",
        "¿Cuál es el código de R da como resultado esta salida?\n",
        "\n",
        "c)\t¿Cuál es la edad media de las chicas del grupo? ¿Y la de los chicos? Intenta responder a ambas preguntas con un único comando."
      ]
    },
    {
      "cell_type": "code",
      "metadata": {
        "id": "EKgaFLUQqCAU",
        "colab_type": "code",
        "outputId": "9d987672-dec4-416b-de15-423aa776775f",
        "colab": {
          "base_uri": "https://localhost:8080/",
          "height": 176
        }
      },
      "source": [
        "%%R\n",
        "nombre = c(\"Ana\", \"Luis\", \"Pedro\", \"Eva\")\n",
        "edad = c(23, 24, 22, 21)\n",
        "sexo = c(\"M\", \"H\", \"H\", \"M\")\n",
        "#Inciso a\n",
        "sexf = factor(sexo)\n",
        "print(sexf)\n",
        "#Inciso b\n",
        "amigos = data.frame(nombre, edad, sexo)\n",
        "print(amigos)\n",
        "#Inciso c\n",
        "mediam <- mean(amigos[which(amigos$sexo==\"M\"),]$edad)\n",
        "mediah <- mean(amigos[which(amigos$sexo==\"H\"),]$edad)\n",
        "cat(\"La media de las chicas es:\", mediam, \"\\n\")\n",
        "cat(\"La media de los chicos es:\", mediah, \"\\n\")"
      ],
      "execution_count": 0,
      "outputs": [
        {
          "output_type": "stream",
          "text": [
            "[1] M H H M\n",
            "Levels: H M\n",
            "  nombre edad sexo\n",
            "1    Ana   23    M\n",
            "2   Luis   24    H\n",
            "3  Pedro   22    H\n",
            "4    Eva   21    M\n",
            "La media de las chicas es: 22 \n",
            "La media de los chicos es: 23 \n"
          ],
          "name": "stdout"
        }
      ]
    },
    {
      "cell_type": "markdown",
      "metadata": {
        "id": "DJSCvkPjyeIB",
        "colab_type": "text"
      },
      "source": [
        "#8.\tEscribe una función que calcule el factorial de un número. Recuerda que la factorial esta deﬁnido para valores enteros no negativos como: n! = n·(n−1)·...·2·1. La función debe dar mensaje de error en caso de introducir un valor que no sea entero o negativo."
      ]
    },
    {
      "cell_type": "code",
      "metadata": {
        "id": "zeQIYJte2xD1",
        "colab_type": "code",
        "outputId": "b266ac61-5beb-4f6e-877d-68297c1fd3f6",
        "colab": {
          "base_uri": "https://localhost:8080/",
          "height": 34
        }
      },
      "source": [
        "%%R\n",
        "factorial <- function(n){\n",
        "  if (n < 0){\n",
        "    print(\"El numero no es valido, solo se aceptan positivos\")\n",
        "  }\n",
        "  else if(n%%1==0){\n",
        "    factorial <- 1\n",
        "    for (i in 1:n){\n",
        "      factorial <- factorial * i\n",
        "    }\n",
        "    return(factorial)\n",
        "  }\n",
        "  else{\n",
        "      print(\"No se aceptan numeros no enteros\")\n",
        "  }\n",
        "}\n",
        "\n",
        "factorial(7)"
      ],
      "execution_count": 0,
      "outputs": [
        {
          "output_type": "stream",
          "text": [
            "[1] 5040\n"
          ],
          "name": "stdout"
        }
      ]
    },
    {
      "cell_type": "markdown",
      "metadata": {
        "id": "rgX05pie5Dkq",
        "colab_type": "text"
      },
      "source": [
        "#9. Escribe una función edades que, dado el día mes y año del nacimiento de una persona, nos devuelva la edad que tiene en el momento de la ejecución de la función."
      ]
    },
    {
      "cell_type": "code",
      "metadata": {
        "id": "Ykv4R74H5MxI",
        "colab_type": "code",
        "outputId": "c65e60f0-f488-4cce-86ef-52be1dfea607",
        "colab": {
          "base_uri": "https://localhost:8080/",
          "height": 52
        }
      },
      "source": [
        "%%R\n",
        "edad <- function(ano,mes,dia){\n",
        "  ano <- as.character(ano)\n",
        "  mes <- as.character(mes)\n",
        "  dia <- as.character(dia)\n",
        "  nac <- as.Date(paste(ano, \"-\", mes, \"-\", dia, sep=\"\"))\n",
        "  hoy <- Sys.Date()\n",
        "  edad <- floor(as.numeric((hoy - nac)/365))\n",
        "  return(edad)\n",
        "}\n",
        "print(\"Tu edad es de:\")\n",
        "edad(1998,03,31)"
      ],
      "execution_count": 0,
      "outputs": [
        {
          "output_type": "stream",
          "text": [
            "[1] \"Tu edad es de:\"\n",
            "[1] 22\n"
          ],
          "name": "stdout"
        }
      ]
    },
    {
      "cell_type": "markdown",
      "metadata": {
        "id": "JS5Hzu0icyJY",
        "colab_type": "text"
      },
      "source": [
        "# 10.\tEscribe una función “par.impar” que realice la suma de todos los números pares y también de todos los número impares comprendidos entre 1 y 200. La salida se muestra a continuación"
      ]
    },
    {
      "cell_type": "code",
      "metadata": {
        "id": "v1YM0x7Pc2R3",
        "colab_type": "code",
        "outputId": "d844b4a8-1daf-4838-af64-10480634cbfa",
        "colab": {
          "base_uri": "https://localhost:8080/",
          "height": 52
        }
      },
      "source": [
        "%%R\n",
        "par.impar<-function(){\n",
        "  n=0\n",
        "  m=0\n",
        "  for (i in 1:200){\n",
        "    if(i%%2==0){   \n",
        "      n=n+i\n",
        "    }\n",
        "    else{\n",
        "      m=m+i\n",
        "      }\n",
        "    }\n",
        "  cat(\"La suma de impares es\", m, \"\\n\")\n",
        "  cat(\"La suma de pares es\", n, \"\\n\")\n",
        "}\n",
        "par.impar()"
      ],
      "execution_count": 0,
      "outputs": [
        {
          "output_type": "stream",
          "text": [
            "La suma de impares es 10000 \n",
            "La suma de pares es 10100 \n"
          ],
          "name": "stdout"
        }
      ]
    }
  ]
}